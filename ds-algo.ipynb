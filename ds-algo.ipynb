{
 "cells": [
  {
   "cell_type": "markdown",
   "metadata": {},
   "source": [
    "#### Kadane's Algorithm\n",
    "Kadane's Algorithm is used to find the maximum subarray sum in an array. It is a dynamic programming algorithm that runs in O(n) time complexity. The algorithm works by iterating through the array and keeping track of the maximum subarray sum ending at each index. The maximum subarray sum is then updated by taking the maximum of the current element and the sum of the previous subarray sum ending at the previous index plus the current element. The algorithm returns the maximum subarray sum at the end of the iteration. Kadane's Algorithm is widely used in various applications such as image processing, data compression, and machine learning. It is a simple and efficient algorithm that is easy to implement and understand."
   ]
  },
  {
   "cell_type": "code",
   "execution_count": 1,
   "metadata": {},
   "outputs": [
    {
     "name": "stdout",
     "output_type": "stream",
     "text": [
      "The maximum subarray sum is: 6\n"
     ]
    }
   ],
   "source": [
    "# Brute force approach\n",
    "# Time complexity: O(n^3)\n",
    "# Space complexity: O(1)\n",
    "import sys\n",
    "\n",
    "def maxSubarraySum(arr, n):\n",
    "    maxi = -sys.maxsize - 1  # maximum sum\n",
    "\n",
    "    for i in range(n):\n",
    "        for j in range(i, n):\n",
    "            # subarray = arr[i.....j]\n",
    "            summ = 0\n",
    "\n",
    "            # add all the elements of subarray:\n",
    "            for k in range(i, j+1):\n",
    "                summ += arr[k]\n",
    "\n",
    "            maxi = max(maxi, summ)\n",
    "\n",
    "    return maxi\n",
    "\n",
    "if __name__ == \"__main__\":\n",
    "    arr = [-2, 1, -3, 4, -1, 2, 1, -5, 4]\n",
    "    n = len(arr)\n",
    "    maxSum = maxSubarraySum(arr, n)\n",
    "    print(\"The maximum subarray sum is:\", maxSum)"
   ]
  },
  {
   "cell_type": "code",
   "execution_count": 2,
   "metadata": {},
   "outputs": [
    {
     "name": "stdout",
     "output_type": "stream",
     "text": [
      "The maximum subarray sum is: 6\n"
     ]
    }
   ],
   "source": [
    "# Brute force better approach\n",
    "# Time complexity: O(n^2)\n",
    "# Space complexity: O(1)\n",
    "\n",
    "import sys\n",
    "\n",
    "def maxSubarraySum(arr, n):\n",
    "    maxi = -sys.maxsize - 1 # maximum sum\n",
    "\n",
    "    for i in range(n):\n",
    "        sum = 0\n",
    "        for j in range(i, n):\n",
    "            # current subarray = arr[i.....j]\n",
    "\n",
    "            #add the current element arr[j]\n",
    "            # to the sum i.e. sum of arr[i...j-1]\n",
    "            sum += arr[j]\n",
    "\n",
    "            maxi = max(maxi, sum) # getting the maximum\n",
    "\n",
    "    return maxi\n",
    "\n",
    "arr = [ -2, 1, -3, 4, -1, 2, 1, -5, 4]\n",
    "n = len(arr)\n",
    "maxSum = maxSubarraySum(arr, n)\n",
    "print(\"The maximum subarray sum is:\", maxSum)"
   ]
  },
  {
   "cell_type": "code",
   "execution_count": 3,
   "metadata": {},
   "outputs": [
    {
     "name": "stdout",
     "output_type": "stream",
     "text": [
      "The subarray is: [4 -1 2 1 ]\n",
      "The maximum subarray sum is: 6\n"
     ]
    }
   ],
   "source": [
    "# kadane's algorithm\n",
    "# Time complexity: O(n)\n",
    "# Space complexity: O(1)\n",
    "\n",
    "import sys\n",
    "\n",
    "def maxSubarraySum(arr, n):\n",
    "    maxi = -sys.maxsize - 1  # maximum sum\n",
    "    sum = 0\n",
    "\n",
    "    start = 0\n",
    "    ansStart, ansEnd = -1, -1\n",
    "    for i in range(n):\n",
    "\n",
    "        if sum == 0:\n",
    "            start = i  # starting index\n",
    "\n",
    "        sum += arr[i]\n",
    "\n",
    "        if sum > maxi:\n",
    "            maxi = sum\n",
    "\n",
    "            ansStart = start\n",
    "            ansEnd = i\n",
    "\n",
    "        # If sum < 0: discard the sum calculated\n",
    "        if sum < 0:\n",
    "            sum = 0\n",
    "\n",
    "    # printing the subarray:\n",
    "    print(\"The subarray is: [\", end=\"\")\n",
    "    for i in range(ansStart, ansEnd + 1):\n",
    "        print(arr[i], end=\" \")\n",
    "    print(\"]\")\n",
    "\n",
    "    # To consider the sum of the empty subarray\n",
    "    # uncomment the following check:\n",
    "\n",
    "    # if maxi < 0:\n",
    "    #     maxi = 0\n",
    "\n",
    "    return maxi\n",
    "\n",
    "arr = [-2, 1, -3, 4, -1, 2, 1, -5, 4]\n",
    "n = len(arr)\n",
    "maxSum = maxSubarraySum(arr, n)\n",
    "print(\"The maximum subarray sum is:\", maxSum)"
   ]
  },
  {
   "cell_type": "markdown",
   "metadata": {},
   "source": [
    "### Left Rotate array by 1 or D element"
   ]
  },
  {
   "cell_type": "code",
   "execution_count": 1,
   "metadata": {},
   "outputs": [
    {
     "name": "stdout",
     "output_type": "stream",
     "text": [
      "[2, 3, 4, 5, 6, 7, 8, 1]\n"
     ]
    }
   ],
   "source": [
    "# Left rotation array by 1 element\n",
    "\n",
    "def left_rotate_array(array):\n",
    "    temp=array[0]\n",
    "    n=len(array)\n",
    "    for i in range(1,n):\n",
    "        array[i-1]=array[i]\n",
    "    array[n-1]=temp \n",
    "    return array\n",
    "\n",
    "if __name__=='__main__':\n",
    "    array=[1,2,3,4,5,6,7,8]\n",
    "    result=left_rotate_array(array)\n",
    "    print(result)\n"
   ]
  },
  {
   "cell_type": "code",
   "execution_count": 3,
   "metadata": {},
   "outputs": [
    {
     "name": "stdout",
     "output_type": "stream",
     "text": [
      "[4, 5, 6, 7, 8, 1, 2, 3]\n"
     ]
    }
   ],
   "source": [
    "# Left rotation array by D element\n",
    "\n",
    "def left_rotate_array_byDElement(array,d):\n",
    "    l=[]\n",
    "    m=0\n",
    "    n=len(array)\n",
    "    for i in range(d):\n",
    "        l.append(array[i])\n",
    "    \n",
    "    for j in range(d,n):\n",
    "        array[j-d]=array[j]\n",
    "    \n",
    "    for k in range(n-d,n):\n",
    "        array[k]=l[m]\n",
    "        m+=1\n",
    "    return array\n",
    "\n",
    "if __name__=='__main__':\n",
    "    array=[1,2,3,4,5,6,7,8]\n",
    "    d=3\n",
    "    result=left_rotate_array_byDElement(array,d)\n",
    "    print(result)\n"
   ]
  },
  {
   "cell_type": "markdown",
   "metadata": {},
   "source": [
    "### Move all zeros to the end of the array"
   ]
  },
  {
   "cell_type": "code",
   "execution_count": 2,
   "metadata": {},
   "outputs": [
    {
     "name": "stdout",
     "output_type": "stream",
     "text": [
      "[1, 2, 3, 2, 4, 5, 1, 0, 0, 0]\n"
     ]
    }
   ],
   "source": [
    "# Bruit force solution\n",
    "def move_zeros(array):\n",
    "    temp=[]\n",
    "    for i in range(len(array)): # TC O(n)\n",
    "        if array[i] != 0:\n",
    "            temp.append(array[i])\n",
    "    for j in range(len(temp)): # TC O(x)\n",
    "        array[j]=temp[j]\n",
    "    for k in range(j+1,len(array)): # TC O(n-x)\n",
    "        array[k]=0\n",
    "    return array # Total TC O(n)+O(x)+O(n-x)=O(2n), SC O(n) [For worst case]\n",
    "if __name__=='__main__':\n",
    "    array=[1,0,2,3,2,0,0,4,5,1]\n",
    "    res=move_zeros(array)\n",
    "    print(res)"
   ]
  },
  {
   "cell_type": "code",
   "execution_count": 3,
   "metadata": {},
   "outputs": [
    {
     "name": "stdout",
     "output_type": "stream",
     "text": [
      "[1, 2, 3, 2, 4, 5, 1, 0, 0, 0]\n"
     ]
    }
   ],
   "source": [
    "# Two pointer solution\n",
    "def move_zeros(array):\n",
    "    j=-1\n",
    "    for i in range(len(array)): # TC O(x)\n",
    "        if array[i]==0:\n",
    "            j=i\n",
    "            break \n",
    "    for k in range(j+1,len(array)): # TC O(n-x)\n",
    "        if array[k]!=0:\n",
    "            array[j],array[k]=array[k],array[j]\n",
    "            j+=1\n",
    "    return array # Total TC O(x)+O(n-x)=O(n) and SC O(1)\n",
    "if __name__=='__main__':\n",
    "    array=[1,0,2,3,2,0,0,4,5,1]\n",
    "    res=move_zeros(array)\n",
    "    print(res)"
   ]
  },
  {
   "cell_type": "markdown",
   "metadata": {},
   "source": [
    "### Q. Missing Number"
   ]
  },
  {
   "cell_type": "code",
   "execution_count": 10,
   "metadata": {},
   "outputs": [
    {
     "name": "stdout",
     "output_type": "stream",
     "text": [
      "Missing number is: 5\n"
     ]
    }
   ],
   "source": [
    "#Brute force solution\n",
    "# Total TC O(n)*O(n)=O(n^2)\n",
    "# Total SC O(1)\n",
    "\n",
    "def missing_number(array,N):\n",
    "    for i in range(1,N+1): # TC O(n)\n",
    "        flag=0\n",
    "        for j in range(len(array)): # TC O(n) [For worst case]\n",
    "            if array[j]==i:\n",
    "                flag=1\n",
    "                break \n",
    "        if flag==0:\n",
    "            return i\n",
    "    \n",
    "\n",
    "if __name__=='__main__':\n",
    "    N=5\n",
    "    array=[1,2,3,4]\n",
    "    res=missing_number(array,N)\n",
    "    print(f\"Missing number is: {res}\")"
   ]
  },
  {
   "cell_type": "code",
   "execution_count": 19,
   "metadata": {},
   "outputs": [
    {
     "name": "stdout",
     "output_type": "stream",
     "text": [
      "Missing number is: 3\n"
     ]
    }
   ],
   "source": [
    "# Better solution\n",
    "# Total TC O(n)+O(n)=O(2n)\n",
    "# SC O(n)\n",
    "def missing_number(array,N):\n",
    "    hashMap_array=[0]*(N+1)\n",
    "    missing_numbers=[] \n",
    "    \n",
    "    for i in range(len(array)): #TC O(n)\n",
    "        hashMap_array[array[i]]=1 \n",
    "        \n",
    "    for i in range(1,len(hashMap_array)): # TC O(n)\n",
    "        if hashMap_array[i]==0: \n",
    "            return i\n",
    "\n",
    "if __name__=='__main__':\n",
    "    N=5\n",
    "    array=[1,2,4,5]\n",
    "    res=missing_number(array,N)\n",
    "    print(f\"Missing number is: {res}\")"
   ]
  },
  {
   "cell_type": "code",
   "execution_count": 21,
   "metadata": {},
   "outputs": [
    {
     "name": "stdout",
     "output_type": "stream",
     "text": [
      "Missing number is: 3\n"
     ]
    }
   ],
   "source": [
    "# Optimal solution\n",
    "# Total TC O(n)\n",
    "# Total SC O(1)\n",
    "# This is sum method\n",
    "def missing_number(array,N):\n",
    "    natural_number_sum=((N*(N+1))//2)\n",
    "    array_sum=0\n",
    "    for i in range(len(array)): #TC O(n)\n",
    "        array_sum+=array[i]\n",
    "    return natural_number_sum-array_sum\n",
    "    \n",
    "\n",
    "if __name__=='__main__':\n",
    "    N=5\n",
    "    array=[1,2,4,5]\n",
    "    res=missing_number(array,N)\n",
    "    print(f\"Missing number is: {res}\")"
   ]
  },
  {
   "cell_type": "code",
   "execution_count": 23,
   "metadata": {},
   "outputs": [
    {
     "name": "stdout",
     "output_type": "stream",
     "text": [
      "Missing number is: 3\n"
     ]
    }
   ],
   "source": [
    "# Optimal solution\n",
    "# Total TC O(2n)\n",
    "# Total SC O(1)\n",
    "# This is XOR method\n",
    "def missing_number(array,N):\n",
    "    XOR1=0\n",
    "    XOR2=0\n",
    "    for i in range(1,N+1):\n",
    "        XOR1=XOR1^i\n",
    "    for j in range(len(array)):\n",
    "        XOR2=XOR2^array[j]\n",
    "        \n",
    "    return XOR1^XOR2 \n",
    "        \n",
    "    \n",
    "\n",
    "if __name__=='__main__':\n",
    "    N=5\n",
    "    array=[1,2,4,5]\n",
    "    res=missing_number(array,N)\n",
    "    print(f\"Missing number is: {res}\")"
   ]
  },
  {
   "cell_type": "code",
   "execution_count": 25,
   "metadata": {},
   "outputs": [
    {
     "name": "stdout",
     "output_type": "stream",
     "text": [
      "Missing number is: 3\n"
     ]
    }
   ],
   "source": [
    "# Optimal solution\n",
    "# Total TC O(n)\n",
    "# Total SC O(1)\n",
    "# This is XOR method\n",
    "def missing_number(array,N):\n",
    "    XOR2=0\n",
    "    XOR1=0\n",
    "    for j in range(len(array)):\n",
    "        XOR2=XOR2^array[j]\n",
    "        XOR1=XOR1^(j+1)\n",
    "    XOR1=XOR1^N    \n",
    "    return XOR1^XOR2 \n",
    "        \n",
    "    \n",
    "\n",
    "if __name__=='__main__':\n",
    "    N=5\n",
    "    array=[1,2,4,5]\n",
    "    res=missing_number(array,N)\n",
    "    print(f\"Missing number is: {res}\")"
   ]
  },
  {
   "cell_type": "markdown",
   "metadata": {},
   "source": [
    "**Q. Why is XOR slightly better than SUM?**\n",
    "\n",
    "**Ans:** Let's suppose we have N = 10^5. In the normal sum method, it would be approximately 10^5 * (10^5 + 1) // 2, which is around 10^10. This result can't be stored in a normal integer variable; we would need a bigger variable to accommodate it. However, with XOR, we don't face this issue of needing a larger integer variable."
   ]
  },
  {
   "cell_type": "markdown",
   "metadata": {},
   "source": [
    "### Q. Maximum Consecutive Ones"
   ]
  },
  {
   "cell_type": "code",
   "execution_count": 27,
   "metadata": {},
   "outputs": [
    {
     "name": "stdout",
     "output_type": "stream",
     "text": [
      "Maximum consecutive one is: 4\n"
     ]
    }
   ],
   "source": [
    "# Total TC O(n)\n",
    "# Total SC O(1)\n",
    "def max_consecutive_ones(array):\n",
    "    count=0\n",
    "    maximum=0\n",
    "    for i in range(len(array)):\n",
    "        if array[i]==1:\n",
    "            count+=1\n",
    "            maximum=max(maximum,count)\n",
    "        else:\n",
    "            count=0 \n",
    "    return maximum\n",
    "if __name__=='__main__':\n",
    "    array=[1,1,0,1,1,1,0,1,1,1,1]\n",
    "    res=max_consecutive_ones(array)\n",
    "    print(f\"Maximum consecutive one is: {res}\")"
   ]
  },
  {
   "cell_type": "markdown",
   "metadata": {},
   "source": [
    "### Q. Find the number that appears once, and other numbers twice"
   ]
  },
  {
   "cell_type": "code",
   "execution_count": 1,
   "metadata": {},
   "outputs": [
    {
     "name": "stdout",
     "output_type": "stream",
     "text": [
      "The number whis appears one time is: 2\n"
     ]
    }
   ],
   "source": [
    "#Brute force solution\n",
    "#TC O(n^2)\n",
    "#SC O(1)\n",
    "def one_number_appear(array):\n",
    "    for i in range(len(array)):\n",
    "        num=array[i]\n",
    "        count=0\n",
    "        for j in range(len(array)):\n",
    "            if array[j]==num:\n",
    "                count+=1\n",
    "        if count==1:\n",
    "            return num\n",
    "if __name__=='__main__':\n",
    "    array=[1,1,2,3,3,4,4]\n",
    "    res=one_number_appear(array)\n",
    "    print(f\"The number whis appears one time is: {res}\")"
   ]
  },
  {
   "cell_type": "code",
   "execution_count": 5,
   "metadata": {},
   "outputs": [
    {
     "name": "stdout",
     "output_type": "stream",
     "text": [
      "The number whis appears one time is: 2\n"
     ]
    }
   ],
   "source": [
    "#Better solution\n",
    "#TC O(2n)\n",
    "#SC O(n)\n",
    "def one_number_appear(array):\n",
    "    hashmap_array=[0]*(max(array)+1)\n",
    "    for i in range(len(array)):\n",
    "        hashmap_array[array[i]]+=1\n",
    "    for j in range(1,len(hashmap_array)):\n",
    "        if hashmap_array[j]==1:\n",
    "            return j\n",
    "        \n",
    "if __name__=='__main__':\n",
    "    array=[1,1,2,3,3,4,4]\n",
    "    res=one_number_appear(array)\n",
    "    print(f\"The number whis appears one time is: {res}\")"
   ]
  },
  {
   "cell_type": "code",
   "execution_count": 6,
   "metadata": {},
   "outputs": [
    {
     "name": "stdout",
     "output_type": "stream",
     "text": [
      "The number whis appears one time is: 2\n"
     ]
    }
   ],
   "source": [
    "#Optimal solution using XOR operation\n",
    "#TC O(n)\n",
    "#SC O(1)\n",
    "def one_number_appear(array):\n",
    "    xor=0\n",
    "    for i in range(len(array)):\n",
    "        xor=xor^array[i]\n",
    "    return xor\n",
    "        \n",
    "if __name__=='__main__':\n",
    "    array=[1,1,2,3,3,4,4]\n",
    "    res=one_number_appear(array)\n",
    "    print(f\"The number whis appears one time is: {res}\")"
   ]
  },
  {
   "cell_type": "markdown",
   "metadata": {},
   "source": [
    "### Q. Longest Subarray with sum K | [Postives and Negatives]\n",
    "### **Problem Statement: Given an array and a sum k, we need to print the length of the longest subarray that sums to k.**\n",
    "```text\n",
    "Example 1:\n",
    "Input Format:\n",
    " N = 3, k = 5, array[] = {2,3,5}\n",
    "Result:\n",
    " 2\n",
    "Explanation:\n",
    " The longest subarray with sum 5 is {2, 3}. And its length is 2.\n",
    "\n",
    "Example 2:\n",
    "Input Format\n",
    ": N = 3, k = 1, array[] = {-1, 1, 1}\n",
    "Result:\n",
    " 3\n",
    "Explanation:\n",
    " The longest subarray with sum 1 is {-1, 1, 1}. And its length is 3.\n",
    "```"
   ]
  },
  {
   "cell_type": "code",
   "execution_count": 11,
   "metadata": {},
   "outputs": [
    {
     "name": "stdout",
     "output_type": "stream",
     "text": [
      "The length of the longest subarray is: 3\n"
     ]
    }
   ],
   "source": [
    "#Brute force solution\n",
    "#TC O(n^3)\n",
    "#SC O(1)\n",
    "from typing import List\n",
    "\n",
    "def getLongestSubarray(a: [int], k: int) -> int:\n",
    "    n = len(a) # size of the array.\n",
    "\n",
    "    length = 0\n",
    "    for i in range(n): # starting index\n",
    "        for j in range(i, n): # ending index\n",
    "            # add all the elements of\n",
    "            # subarray = a[i...j]:\n",
    "            s = 0\n",
    "            for K in range(i, j+1):\n",
    "                s += a[K]\n",
    "\n",
    "            if s == k:\n",
    "                length = max(length, j - i + 1)\n",
    "    return length\n",
    "\n",
    "if __name__ == \"__main__\":\n",
    "\ta = [2, 3, 5, 1, 9]\n",
    "\tk = 10\n",
    "\n",
    "\tlength = getLongestSubarray(a, k)\n",
    "\tprint(f\"The length of the longest subarray is: {length}\")"
   ]
  },
  {
   "cell_type": "code",
   "execution_count": null,
   "metadata": {},
   "outputs": [],
   "source": []
  }
 ],
 "metadata": {
  "kernelspec": {
   "display_name": "Python 3",
   "language": "python",
   "name": "python3"
  },
  "language_info": {
   "codemirror_mode": {
    "name": "ipython",
    "version": 3
   },
   "file_extension": ".py",
   "mimetype": "text/x-python",
   "name": "python",
   "nbconvert_exporter": "python",
   "pygments_lexer": "ipython3",
   "version": "3.10.13"
  }
 },
 "nbformat": 4,
 "nbformat_minor": 2
}
