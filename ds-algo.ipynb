{
 "cells": [
  {
   "cell_type": "markdown",
   "metadata": {},
   "source": [
    "#### Kadane's Algorithm\n",
    "Kadane's Algorithm is used to find the maximum subarray sum in an array. It is a dynamic programming algorithm that runs in O(n) time complexity. The algorithm works by iterating through the array and keeping track of the maximum subarray sum ending at each index. The maximum subarray sum is then updated by taking the maximum of the current element and the sum of the previous subarray sum ending at the previous index plus the current element. The algorithm returns the maximum subarray sum at the end of the iteration. Kadane's Algorithm is widely used in various applications such as image processing, data compression, and machine learning. It is a simple and efficient algorithm that is easy to implement and understand."
   ]
  },
  {
   "cell_type": "code",
   "execution_count": 1,
   "metadata": {},
   "outputs": [
    {
     "name": "stdout",
     "output_type": "stream",
     "text": [
      "The maximum subarray sum is: 6\n"
     ]
    }
   ],
   "source": [
    "# Brute force approach\n",
    "# Time complexity: O(n^3)\n",
    "# Space complexity: O(1)\n",
    "import sys\n",
    "\n",
    "def maxSubarraySum(arr, n):\n",
    "    maxi = -sys.maxsize - 1  # maximum sum\n",
    "\n",
    "    for i in range(n):\n",
    "        for j in range(i, n):\n",
    "            # subarray = arr[i.....j]\n",
    "            summ = 0\n",
    "\n",
    "            # add all the elements of subarray:\n",
    "            for k in range(i, j+1):\n",
    "                summ += arr[k]\n",
    "\n",
    "            maxi = max(maxi, summ)\n",
    "\n",
    "    return maxi\n",
    "\n",
    "if __name__ == \"__main__\":\n",
    "    arr = [-2, 1, -3, 4, -1, 2, 1, -5, 4]\n",
    "    n = len(arr)\n",
    "    maxSum = maxSubarraySum(arr, n)\n",
    "    print(\"The maximum subarray sum is:\", maxSum)"
   ]
  },
  {
   "cell_type": "code",
   "execution_count": 2,
   "metadata": {},
   "outputs": [
    {
     "name": "stdout",
     "output_type": "stream",
     "text": [
      "The maximum subarray sum is: 6\n"
     ]
    }
   ],
   "source": [
    "# Brute force better approach\n",
    "# Time complexity: O(n^2)\n",
    "# Space complexity: O(1)\n",
    "\n",
    "import sys\n",
    "\n",
    "def maxSubarraySum(arr, n):\n",
    "    maxi = -sys.maxsize - 1 # maximum sum\n",
    "\n",
    "    for i in range(n):\n",
    "        sum = 0\n",
    "        for j in range(i, n):\n",
    "            # current subarray = arr[i.....j]\n",
    "\n",
    "            #add the current element arr[j]\n",
    "            # to the sum i.e. sum of arr[i...j-1]\n",
    "            sum += arr[j]\n",
    "\n",
    "            maxi = max(maxi, sum) # getting the maximum\n",
    "\n",
    "    return maxi\n",
    "\n",
    "arr = [ -2, 1, -3, 4, -1, 2, 1, -5, 4]\n",
    "n = len(arr)\n",
    "maxSum = maxSubarraySum(arr, n)\n",
    "print(\"The maximum subarray sum is:\", maxSum)"
   ]
  },
  {
   "cell_type": "code",
   "execution_count": 3,
   "metadata": {},
   "outputs": [
    {
     "name": "stdout",
     "output_type": "stream",
     "text": [
      "The subarray is: [4 -1 2 1 ]\n",
      "The maximum subarray sum is: 6\n"
     ]
    }
   ],
   "source": [
    "# kadane's algorithm\n",
    "# Time complexity: O(n)\n",
    "# Space complexity: O(1)\n",
    "\n",
    "import sys\n",
    "\n",
    "def maxSubarraySum(arr, n):\n",
    "    maxi = -sys.maxsize - 1  # maximum sum\n",
    "    sum = 0\n",
    "\n",
    "    start = 0\n",
    "    ansStart, ansEnd = -1, -1\n",
    "    for i in range(n):\n",
    "\n",
    "        if sum == 0:\n",
    "            start = i  # starting index\n",
    "\n",
    "        sum += arr[i]\n",
    "\n",
    "        if sum > maxi:\n",
    "            maxi = sum\n",
    "\n",
    "            ansStart = start\n",
    "            ansEnd = i\n",
    "\n",
    "        # If sum < 0: discard the sum calculated\n",
    "        if sum < 0:\n",
    "            sum = 0\n",
    "\n",
    "    # printing the subarray:\n",
    "    print(\"The subarray is: [\", end=\"\")\n",
    "    for i in range(ansStart, ansEnd + 1):\n",
    "        print(arr[i], end=\" \")\n",
    "    print(\"]\")\n",
    "\n",
    "    # To consider the sum of the empty subarray\n",
    "    # uncomment the following check:\n",
    "\n",
    "    # if maxi < 0:\n",
    "    #     maxi = 0\n",
    "\n",
    "    return maxi\n",
    "\n",
    "arr = [-2, 1, -3, 4, -1, 2, 1, -5, 4]\n",
    "n = len(arr)\n",
    "maxSum = maxSubarraySum(arr, n)\n",
    "print(\"The maximum subarray sum is:\", maxSum)"
   ]
  },
  {
   "cell_type": "code",
   "execution_count": null,
   "metadata": {},
   "outputs": [],
   "source": []
  }
 ],
 "metadata": {
  "kernelspec": {
   "display_name": "Python 3",
   "language": "python",
   "name": "python3"
  },
  "language_info": {
   "codemirror_mode": {
    "name": "ipython",
    "version": 3
   },
   "file_extension": ".py",
   "mimetype": "text/x-python",
   "name": "python",
   "nbconvert_exporter": "python",
   "pygments_lexer": "ipython3",
   "version": "3.12.0"
  }
 },
 "nbformat": 4,
 "nbformat_minor": 2
}
