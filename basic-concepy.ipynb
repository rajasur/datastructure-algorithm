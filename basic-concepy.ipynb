{
 "cells": [
  {
   "cell_type": "code",
   "execution_count": 5,
   "metadata": {},
   "outputs": [],
   "source": [
    "# Import libraries\n",
    "import copy\n",
    "import time"
   ]
  },
  {
   "cell_type": "code",
   "execution_count": 2,
   "metadata": {},
   "outputs": [
    {
     "name": "stdout",
     "output_type": "stream",
     "text": [
      "Before modify anythong shallow copy list is: [[1, 2, 3], [4, 5, 6], [7, 8, 9]] and original list is: [[1, 2, 3], [4, 5, 6], [7, 8, 9]]\n",
      "After modify the value, shallow copy is: [[10, 2, 3], [4, 5, 6], [7, 8, 9]] and original list is: [[10, 2, 3], [4, 5, 6], [7, 8, 9]]\n"
     ]
    }
   ],
   "source": [
    "original_list=[[1,2,3],[4,5,6],[7,8,9]]\n",
    "shallow_copied_list=copy.copy(original_list)\n",
    "print(f\"Before modify anythong shallow copy list is: {shallow_copied_list} and original list is: {original_list}\")\n",
    "# Modify the nested lisy in the shallow copy\n",
    "shallow_copied_list[0][0]=10\n",
    "print(f\"After modify the value, shallow copy is: {shallow_copied_list} and original list is: {original_list}\")"
   ]
  },
  {
   "cell_type": "code",
   "execution_count": 3,
   "metadata": {},
   "outputs": [
    {
     "name": "stdout",
     "output_type": "stream",
     "text": [
      "Before modify anythong shallow copy list is: [[1, 2, 3], [4, 5, 6], [7, 8, 9]] and original list is: [[1, 2, 3], [4, 5, 6], [7, 8, 9]]\n",
      "After modify the value, shallow copy is: [[10, 2, 3], [4, 5, 6], [7, 8, 9]] and original list is: [[1, 2, 3], [4, 5, 6], [7, 8, 9]]\n"
     ]
    }
   ],
   "source": [
    "original_list=[[1,2,3],[4,5,6],[7,8,9]]\n",
    "deep_copied_list=copy.deepcopy(original_list)\n",
    "print(f\"Before modify anythong shallow copy list is: {deep_copied_list} and original list is: {original_list}\")\n",
    "# Modify the nested lisy in the deep copy\n",
    "deep_copied_list[0][0]=10\n",
    "print(f\"After modify the value, shallow copy is: {deep_copied_list} and original list is: {original_list}\")"
   ]
  },
  {
   "cell_type": "markdown",
   "metadata": {},
   "source": [
    "<centre> \n",
    "Decorator Implementation \n",
    "</centre>"
   ]
  },
  {
   "cell_type": "code",
   "execution_count": 4,
   "metadata": {},
   "outputs": [
    {
     "name": "stdout",
     "output_type": "stream",
     "text": [
      "10\n"
     ]
    }
   ],
   "source": [
    "# Decorator in python\n",
    "def decor(func):\n",
    "    def wrapper():\n",
    "        res=func()+5\n",
    "        return res \n",
    "    return wrapper\n",
    "\n",
    "@decor\n",
    "def calculation():\n",
    "    return 5\n",
    "res=calculation()\n",
    "print(res)"
   ]
  },
  {
   "cell_type": "markdown",
   "metadata": {},
   "source": [
    "### Problem 1: Timing Function Execution"
   ]
  },
  {
   "cell_type": "code",
   "execution_count": null,
   "metadata": {
    "tags": [
     "parameters"
    ]
   },
   "outputs": [
    {
     "name": "stdout",
     "output_type": "stream",
     "text": [
      "example_function ran in 2.0050528049468994 time\n"
     ]
    }
   ],
   "source": [
    "def timer(func):\n",
    "    def wrapper(*args, **kwargs):\n",
    "        start_time=time.time()\n",
    "        res=func(*args, **kwargs)\n",
    "        end_time=time.time()\n",
    "        print(f\"{func.__name__} ran in {end_time-start_time} time\")\n",
    "        return res \n",
    "    return wrapper\n",
    "\n",
    "@timer \n",
    "def example_function(n):\n",
    "    time.sleep(n)\n",
    "    \n",
    "example_function(2)\n",
    "        "
   ]
  },
  {
   "cell_type": "markdown",
   "metadata": {},
   "source": [
    "### Problem 2: Debugging Function Calls"
   ]
  },
  {
   "cell_type": "markdown",
   "metadata": {},
   "source": []
  },
  {
   "cell_type": "markdown",
   "metadata": {},
   "source": [
    "### Map, Filter, Reduce in Python"
   ]
  },
  {
   "cell_type": "code",
   "execution_count": 1,
   "metadata": {},
   "outputs": [
    {
     "name": "stdout",
     "output_type": "stream",
     "text": [
      "[1, 8, 64, 216, 64, 27]\n"
     ]
    }
   ],
   "source": [
    "# Map function implementation\n",
    "l=[1,2,4,6,4,3]\n",
    "res=list(map(lambda x: x**3,l))\n",
    "print(res)"
   ]
  },
  {
   "cell_type": "code",
   "execution_count": 2,
   "metadata": {},
   "outputs": [
    {
     "name": "stdout",
     "output_type": "stream",
     "text": [
      "[2, 4, 6, 4]\n"
     ]
    }
   ],
   "source": [
    "# Filter function implementation using lambda\n",
    "l=[1,2,4,6,4,3]\n",
    "even_numbers=list(filter(lambda x: x%2==0,l))\n",
    "print(even_numbers)"
   ]
  },
  {
   "cell_type": "code",
   "execution_count": 5,
   "metadata": {},
   "outputs": [
    {
     "name": "stdout",
     "output_type": "stream",
     "text": [
      "20\n"
     ]
    }
   ],
   "source": [
    "# Reduce function implementation using lambda\n",
    "from functools import reduce\n",
    "l=[1,2,4,6,4,3]\n",
    "reduce_result=reduce(lambda x,y : x + y, l)\n",
    "print(reduce_result)"
   ]
  },
  {
   "cell_type": "code",
   "execution_count": 13,
   "metadata": {
    "vscode": {
     "languageId": "shellscript"
    }
   },
   "outputs": [
    {
     "name": "stdout",
     "output_type": "stream",
     "text": [
      "'str=$(echo \"$str\" | tr -d ' ')' is not a palindrome.\n"
     ]
    }
   ],
   "source": [
    "%%bash\n",
    "read -p \"Enter a string: \" str\n",
    "str=$(echo \"$str\" | tr -d ' ')\n",
    "revStr=$(echo \"$str\" | rev)\n",
    "\n",
    "if [ \"$str\" == \"$revStr\" ]; then\n",
    "    echo \"'$str' is a palindrome.\"\n",
    "else\n",
    "    echo \"'$str' is not a palindrome.\"\n",
    "fi"
   ]
  },
  {
   "cell_type": "code",
   "execution_count": null,
   "metadata": {
    "vscode": {
     "languageId": "shellscript"
    }
   },
   "outputs": [],
   "source": []
  }
 ],
 "metadata": {
  "kernelspec": {
   "display_name": "Python 3",
   "language": "python",
   "name": "python3"
  },
  "language_info": {
   "codemirror_mode": {
    "name": "ipython",
    "version": 3
   },
   "file_extension": ".py",
   "mimetype": "text/x-python",
   "name": "python",
   "nbconvert_exporter": "python",
   "pygments_lexer": "ipython3",
   "version": "3.10.13"
  }
 },
 "nbformat": 4,
 "nbformat_minor": 2
}
