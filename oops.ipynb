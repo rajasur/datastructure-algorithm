{
 "cells": [
  {
   "cell_type": "code",
   "execution_count": 2,
   "metadata": {},
   "outputs": [
    {
     "name": "stdout",
     "output_type": "stream",
     "text": [
      "Price of mobile is 5000\n"
     ]
    }
   ],
   "source": [
    "#static methods in python\n",
    "\n",
    "class Mobile:\n",
    "    price=5000 # class variable\n",
    "    \n",
    "    @staticmethod\n",
    "    def mobilePrice():\n",
    "        print(f\"Price of mobile is {Mobile.price}\") # access the class variable inside static method\n",
    "        \n",
    "Mobile.mobilePrice() # Here we call the static method using class"
   ]
  },
  {
   "cell_type": "markdown",
   "metadata": {},
   "source": [
    "## Calling Static Method with Argument"
   ]
  },
  {
   "cell_type": "code",
   "execution_count": 3,
   "metadata": {},
   "outputs": [
    {
     "name": "stdout",
     "output_type": "stream",
     "text": [
      "RaelMe X 1000\n"
     ]
    }
   ],
   "source": [
    "class Mobile:\n",
    "    \n",
    "    @staticmethod\n",
    "    def show_model(m,p):\n",
    "        model=m \n",
    "        price=p \n",
    "        print(model,price)\n",
    "\n",
    "Mobile.show_model(\"RaelMe X\",1000) # calling method with argument"
   ]
  },
  {
   "cell_type": "markdown",
   "metadata": {},
   "source": [
    "### Passing Members of one class to another class"
   ]
  },
  {
   "cell_type": "code",
   "execution_count": null,
   "metadata": {},
   "outputs": [],
   "source": [
    "class Student:\n",
    "    # constructor\n",
    "    def __init__(self,name,roll_no):\n",
    "        self.name=name \n",
    "        self.roll_no=roll_no \n",
    "        \n",
    "    #Instance method\n",
    "    def disp(self):\n",
    "        print(\"Instance method calling\")\n",
    "        print(f\"Student name: {self.name}\")\n",
    "        print(f\"Student Roll: {self.roll_no}\")\n",
    "\n",
    "class User:\n",
    "    #static method \n",
    "    \n",
    "    @staticmethod\n",
    "    def show(s):\n",
    "        print(\"static\")    "
   ]
  }
 ],
 "metadata": {
  "kernelspec": {
   "display_name": "Python 3",
   "language": "python",
   "name": "python3"
  },
  "language_info": {
   "codemirror_mode": {
    "name": "ipython",
    "version": 3
   },
   "file_extension": ".py",
   "mimetype": "text/x-python",
   "name": "python",
   "nbconvert_exporter": "python",
   "pygments_lexer": "ipython3",
   "version": "3.10.13"
  }
 },
 "nbformat": 4,
 "nbformat_minor": 2
}
