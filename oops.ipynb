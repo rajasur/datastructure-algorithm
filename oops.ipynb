{
 "cells": [
  {
   "cell_type": "code",
   "execution_count": 2,
   "metadata": {},
   "outputs": [
    {
     "name": "stdout",
     "output_type": "stream",
     "text": [
      "Price of mobile is 5000\n"
     ]
    }
   ],
   "source": [
    "#static methods in python\n",
    "\n",
    "class Mobile:\n",
    "    price=5000 # class variable\n",
    "    \n",
    "    @staticmethod\n",
    "    def mobilePrice():\n",
    "        print(f\"Price of mobile is {Mobile.price}\") # access the class variable inside static method\n",
    "        \n",
    "Mobile.mobilePrice() # Here we call the static method using class"
   ]
  },
  {
   "cell_type": "markdown",
   "metadata": {},
   "source": [
    "## Calling Static Method with Argument"
   ]
  },
  {
   "cell_type": "code",
   "execution_count": 3,
   "metadata": {},
   "outputs": [
    {
     "name": "stdout",
     "output_type": "stream",
     "text": [
      "RaelMe X 1000\n"
     ]
    }
   ],
   "source": [
    "class Mobile:\n",
    "    \n",
    "    @staticmethod\n",
    "    def show_model(m,p):\n",
    "        model=m \n",
    "        price=p \n",
    "        print(model,price)\n",
    "\n",
    "Mobile.show_model(\"RaelMe X\",1000) # calling method with argument"
   ]
  },
  {
   "cell_type": "markdown",
   "metadata": {},
   "source": [
    "### Passing Members of one class to another class"
   ]
  },
  {
   "cell_type": "code",
   "execution_count": 2,
   "metadata": {},
   "outputs": [
    {
     "name": "stdout",
     "output_type": "stream",
     "text": [
      "static\n",
      "User Name: Rahul, Roll: 101\n",
      "Instance method calling\n",
      "Student name: Rahul\n",
      "Student Roll: 101\n"
     ]
    }
   ],
   "source": [
    "class Student:\n",
    "    # constructor\n",
    "    def __init__(self,name,roll_no):\n",
    "        self.name=name \n",
    "        self.roll_no=roll_no \n",
    "        \n",
    "    #Instance method\n",
    "    def disp(self):\n",
    "        print(\"Instance method calling\")\n",
    "        print(f\"Student name: {self.name}\")\n",
    "        print(f\"Student Roll: {self.roll_no}\")\n",
    "\n",
    "class User:\n",
    "    #static method \n",
    "    \n",
    "    @staticmethod\n",
    "    def show(s):\n",
    "        print(\"static\")\n",
    "        print(f\"User Name: {s.name}, Roll: {s.roll_no}\")\n",
    "        s.disp()\n",
    "        \n",
    "# Creating onject of student class\n",
    "stu= Student('Rahul',101)\n",
    "\n",
    "User.show(stu)"
   ]
  },
  {
   "cell_type": "markdown",
   "metadata": {},
   "source": [
    "### Nested Class\n",
    "- A class within a class is called as a nested class or nesting of a class"
   ]
  },
  {
   "cell_type": "code",
   "execution_count": 8,
   "metadata": {},
   "outputs": [
    {
     "name": "stdout",
     "output_type": "stream",
     "text": [
      "Rahul\n",
      "Name:  Rahul\n",
      "AK47\n",
      "AK47\n",
      "Gun Name:  AK47\n",
      "Capacity:  75 Rounds\n",
      "Length:  34.3 Inch\n"
     ]
    }
   ],
   "source": [
    "class Army:\n",
    "    def __init__(self):\n",
    "        self.name='Rahul'\n",
    "        self.gn=self.Gun() #Creating Inner class object\n",
    "    \n",
    "    def show(self):\n",
    "        print(\"Name: \",self.name)\n",
    "        \n",
    "    class Gun:\n",
    "        def __init__(self):\n",
    "            self.name='AK47'\n",
    "            self.capacity='75 Rounds'\n",
    "            self.length='34.3 Inch'\n",
    "        \n",
    "        def disp(self):\n",
    "            print(\"Gun Name: \",self.name)\n",
    "            print(\"Capacity: \",self.capacity)\n",
    "            print(\"Length: \",self.length)\n",
    "a= Army()\n",
    "print(a.name)\n",
    "a.show()\n",
    "print(a.gn.name)\n",
    "g= a.gn\n",
    "print(g.name)\n",
    "g.disp()\n",
    "g=Army().Gun() # We can call Inner class outside of the class\n",
    "\n",
    "   "
   ]
  },
  {
   "cell_type": "markdown",
   "metadata": {},
   "source": [
    "### Inheritance\n",
    "***The mechanism of deriving a new class from an old one (existing class) such that the new class inherit all the members (variables and methods) of old is called inheritance or derivation***\n",
    "- ***The old class is reffered to as the super class and the new one is called the sub class***\n",
    "- ***Parent Class or Base Class or Super Class***\n",
    "- ***Child Class or Derived Class or Sub Class***\n",
    "- ***All classes in python are built from a single super class called 'object' so whenever we created a class in python, object will become super class for them internally.***\n",
    "<br>\n",
    "Example:\n",
    "```python\n",
    "class Mobile(object):\n",
    "class Mobile\n",
    "```\n",
    "<br>\n",
    "\n",
    "- ***The main advantage of inheritance is code reusability***\n"
   ]
  },
  {
   "cell_type": "markdown",
   "metadata": {},
   "source": [
    "### Single Inheritance\n",
    "- ***If a class is derived from one base class (Parent Class), it is called Single Inheritance***\n",
    "- ***We can access Parent Class Variable and Methods using Child Class Object***\n",
    "- ***We can also access Parent Class Variable and Methods using Parent Class Object***\n",
    "\n"
   ]
  },
  {
   "cell_type": "code",
   "execution_count": 15,
   "metadata": {},
   "outputs": [
    {
     "name": "stdout",
     "output_type": "stream",
     "text": [
      "Child Class Instance Method\n",
      "Parent Class Instance Method\n",
      "Parent class Class Methos:  1000\n",
      "Parent Class Static Methos:  10\n"
     ]
    }
   ],
   "source": [
    "# Single Inheritance\n",
    "class Father:\n",
    "    money=1000\n",
    "    \n",
    "    def show(self):\n",
    "        print(\"Parent Class Instance Method\")\n",
    "        \n",
    "    @classmethod\n",
    "    def showmoney(cls):\n",
    "        print(\"Parent class Class Methos: \",cls.money)\n",
    "        \n",
    "    @staticmethod\n",
    "    def stat():\n",
    "        a=10 \n",
    "        print(\"Parent Class Static Methos: \",a)\n",
    "        \n",
    "class Son(Father):\n",
    "    def disp(self):\n",
    "        print(\"Child Class Instance Method\")\n",
    "        \n",
    "s=Son() # Creating the object of child class\n",
    "s.disp() # Calling child class Instance method using child class object\n",
    "s.show() # Calling parent class Instance method using child class object\n",
    "s.showmoney() #Calling parent class class method using child class object\n",
    "s.stat() #Calling parent class static method using child class object"
   ]
  },
  {
   "cell_type": "code",
   "execution_count": null,
   "metadata": {},
   "outputs": [],
   "source": []
  }
 ],
 "metadata": {
  "kernelspec": {
   "display_name": "Python 3",
   "language": "python",
   "name": "python3"
  },
  "language_info": {
   "codemirror_mode": {
    "name": "ipython",
    "version": 3
   },
   "file_extension": ".py",
   "mimetype": "text/x-python",
   "name": "python",
   "nbconvert_exporter": "python",
   "pygments_lexer": "ipython3",
   "version": "3.11.7"
  }
 },
 "nbformat": 4,
 "nbformat_minor": 2
}
