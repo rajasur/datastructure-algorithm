{
 "cells": [
  {
   "cell_type": "code",
   "execution_count": 1,
   "metadata": {},
   "outputs": [
    {
     "name": "stdout",
     "output_type": "stream",
     "text": [
      "   A  B  C    D\n",
      "0  1  2  3  4.0\n",
      "1  5  6  7  8.0\n",
      "2  9  1  1  NaN\n",
      "   A  B    C    D\n",
      "0  1  2  5.0  4.0\n",
      "1  9  6  NaN  8.0\n",
      "2  9  1  1.0  NaN\n"
     ]
    }
   ],
   "source": [
    "import pandas as pd\n",
    "l1=[[1,2,3,4],[5,6,7,8],[9,1,1,None]]\n",
    "l2=[[1,2,5,4],[9,6,None,8],[9,1,1,None]]\n",
    "df1=pd.DataFrame(columns=['A','B','C','D'],data=l1)\n",
    "df2=pd.DataFrame(columns=['A','B','C','D'],data=l2)\n",
    "print(df1)\n",
    "print(df2)\n",
    "print()"
   ]
  },
  {
   "cell_type": "code",
   "execution_count": null,
   "metadata": {},
   "outputs": [],
   "source": []
  }
 ],
 "metadata": {
  "kernelspec": {
   "display_name": "coding",
   "language": "python",
   "name": "python3"
  },
  "language_info": {
   "codemirror_mode": {
    "name": "ipython",
    "version": 3
   },
   "file_extension": ".py",
   "mimetype": "text/x-python",
   "name": "python",
   "nbconvert_exporter": "python",
   "pygments_lexer": "ipython3",
   "version": "3.11.7"
  }
 },
 "nbformat": 4,
 "nbformat_minor": 2
}
